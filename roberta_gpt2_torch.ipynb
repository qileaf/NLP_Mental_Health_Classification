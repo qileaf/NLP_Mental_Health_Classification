{
 "cells": [
  {
   "cell_type": "markdown",
   "metadata": {},
   "source": [
    "## DSI-13 Project 3: Classification of text to identify Mental Health related discussions"
   ]
  },
  {
   "cell_type": "markdown",
   "metadata": {},
   "source": [
    "### Title:\n",
    "AI-Assisted Mental Health Surveillance in University Online Communities\n",
    "\n",
    "### Background:\n",
    "Globally, more than 970 million people are living with mental disorder. In Singapore, more than 1 in every 4 young adults suffer from poor mental health, and the numbers are on the rise.\n",
    "\n",
    "### Problem Statement:\n",
    "The purpose of this project is to help GA University identify at-risk students from conversations within the university online community. Early detection will allow the university to provide early intervention and support initiatives for their students.\n",
    "\n",
    "### Objectives:\n",
    "1. Obtain relevant data for the training of a model to detect mental health related discussions.\n",
    "2. Train and develop a highly accurate model to detect and pinpoint mental health related discussions in the online community. The goal of the classification model is to assist university counselors in detecting at-risk students and reach out to them with support as soon as they can.\n",
    "\n",
    "### Expected Outcomes:\n",
    "1. Accurate Predictive Model: A robust prediction model that reads and identifies mental health related posts with a fairly high level of accuracy.\n",
    "2. To present the insights and models to GA University's panel, which includes "
   ]
  },
  {
   "cell_type": "markdown",
   "metadata": {},
   "source": [
    "Importing the necessary libraries"
   ]
  },
  {
   "cell_type": "code",
   "execution_count": 1,
   "metadata": {},
   "outputs": [],
   "source": [
    "import warnings\n",
    "warnings.filterwarnings('ignore')"
   ]
  },
  {
   "cell_type": "code",
   "execution_count": 2,
   "metadata": {},
   "outputs": [
    {
     "name": "stderr",
     "output_type": "stream",
     "text": [
      "c:\\ProgramData\\anaconda3\\envs\\torch-gpu\\Lib\\site-packages\\tqdm\\auto.py:21: TqdmWarning: IProgress not found. Please update jupyter and ipywidgets. See https://ipywidgets.readthedocs.io/en/stable/user_install.html\n",
      "  from .autonotebook import tqdm as notebook_tqdm\n"
     ]
    },
    {
     "name": "stdout",
     "output_type": "stream",
     "text": [
      "WARNING:tensorflow:From C:\\Users\\faeli\\AppData\\Roaming\\Python\\Python312\\site-packages\\tf_keras\\src\\losses.py:2976: The name tf.losses.sparse_softmax_cross_entropy is deprecated. Please use tf.compat.v1.losses.sparse_softmax_cross_entropy instead.\n",
      "\n"
     ]
    }
   ],
   "source": [
    "import re\n",
    "import os\n",
    "import nltk\n",
    "import time\n",
    "#import praw\n",
    "import torch\n",
    "import emoji\n",
    "import pickle\n",
    "import evaluate\n",
    "import datetime\n",
    "import requests\n",
    "import accelerate\n",
    "import numpy as np\n",
    "import pandas as pd\n",
    "import xgboost as xgb\n",
    "import matplotlib.pyplot as plt\n",
    "\n",
    "from typing import List\n",
    "\n",
    "from xgboost import XGBClassifier\n",
    "\n",
    "from datasets import Dataset, DatasetDict\n",
    "\n",
    "from sklearn.pipeline import Pipeline\n",
    "from sklearn.decomposition import PCA\n",
    "from sklearn.naive_bayes import MultinomialNB\n",
    "from sklearn.metrics import accuracy_score, classification_report\n",
    "from sklearn.model_selection import train_test_split, cross_val_score\n",
    "from sklearn.feature_extraction.text import TfidfVectorizer, CountVectorizer\n",
    "\n",
    "from nltk.corpus import stopwords\n",
    "from nltk.tokenize import word_tokenize\n",
    "from nltk.stem import WordNetLemmatizer, PorterStemmer\n",
    "\n",
    "from transformers import AutoTokenizer, TrainingArguments, Trainer\n",
    "from transformers import GPT2Config, GPT2Tokenizer, GPT2ForSequenceClassification\n",
    "from transformers import AutoModelForSequenceClassification, DataCollatorWithPadding"
   ]
  },
  {
   "cell_type": "markdown",
   "metadata": {},
   "source": [
    "Download some required packages for the nltk library"
   ]
  },
  {
   "cell_type": "code",
   "execution_count": 3,
   "metadata": {},
   "outputs": [
    {
     "name": "stderr",
     "output_type": "stream",
     "text": [
      "[nltk_data] Downloading package stopwords to\n",
      "[nltk_data]     C:\\Users\\faeli\\AppData\\Roaming\\nltk_data...\n",
      "[nltk_data]   Package stopwords is already up-to-date!\n",
      "[nltk_data] Downloading package punkt to\n",
      "[nltk_data]     C:\\Users\\faeli\\AppData\\Roaming\\nltk_data...\n",
      "[nltk_data]   Package punkt is already up-to-date!\n",
      "[nltk_data] Downloading package wordnet to\n",
      "[nltk_data]     C:\\Users\\faeli\\AppData\\Roaming\\nltk_data...\n",
      "[nltk_data]   Package wordnet is already up-to-date!\n"
     ]
    },
    {
     "data": {
      "text/plain": [
       "True"
      ]
     },
     "execution_count": 3,
     "metadata": {},
     "output_type": "execute_result"
    }
   ],
   "source": [
    "nltk.download('stopwords')\n",
    "nltk.download('punkt')\n",
    "nltk.download('wordnet')"
   ]
  },
  {
   "cell_type": "markdown",
   "metadata": {},
   "source": [
    "As we will be using some transformer models with PyTorch, we will utilize the CUDA parallel computing platform to allow the use of GPU for training the model and reduce the training time."
   ]
  },
  {
   "cell_type": "code",
   "execution_count": 4,
   "metadata": {},
   "outputs": [
    {
     "name": "stdout",
     "output_type": "stream",
     "text": [
      "Device used: cuda\n",
      "GPU name: NVIDIA GeForce RTX 4070 SUPER\n"
     ]
    }
   ],
   "source": [
    "device = torch.device('cuda') if torch.cuda.is_available() else torch.device('cpu')\n",
    "print('Device used:', device)\n",
    "print(f\"GPU name: {torch.cuda.get_device_name(torch.cuda.current_device())}\")"
   ]
  },
  {
   "cell_type": "markdown",
   "metadata": {},
   "source": [
    "## Data Collection"
   ]
  },
  {
   "cell_type": "markdown",
   "metadata": {},
   "source": [
    "### Python Reddit API Wrapper (PRAW)\n",
    "\n",
    "As we have chosen Reddit posts to be used for the training of our classification models, we will be using PRAW, a dedicated Reddit API Wrapper, to scrape the posts and comments from 2 subreddits: 'r/mentalhealth' and 'r/casualconversations'. These two subreddits have distinct labels inherited from the nature of the subreddit to allow our models to learn to differentiate whether or not a conversation is mental health related (Label: 1) or not (Label:0).\n",
    "\n",
    "The PRAW scraping script is saved separately in the file within the repo, titled `praw_scraper.py`"
   ]
  },
  {
   "cell_type": "markdown",
   "metadata": {},
   "source": [
    "Load Dataset"
   ]
  },
  {
   "cell_type": "code",
   "execution_count": 7,
   "metadata": {},
   "outputs": [],
   "source": [
    "casual = pd.read_csv('subreddit_casualconversation_20240614.csv')\n",
    "mental = pd.read_csv('Subreddit_mentalhealth_20240614.csv')"
   ]
  },
  {
   "cell_type": "code",
   "execution_count": 8,
   "metadata": {},
   "outputs": [
    {
     "data": {
      "text/html": [
       "<div>\n",
       "<style scoped>\n",
       "    .dataframe tbody tr th:only-of-type {\n",
       "        vertical-align: middle;\n",
       "    }\n",
       "\n",
       "    .dataframe tbody tr th {\n",
       "        vertical-align: top;\n",
       "    }\n",
       "\n",
       "    .dataframe thead th {\n",
       "        text-align: right;\n",
       "    }\n",
       "</style>\n",
       "<table border=\"1\" class=\"dataframe\">\n",
       "  <thead>\n",
       "    <tr style=\"text-align: right;\">\n",
       "      <th></th>\n",
       "      <th>Unnamed: 0</th>\n",
       "      <th>id</th>\n",
       "      <th>title</th>\n",
       "      <th>body</th>\n",
       "      <th>score</th>\n",
       "      <th>num_comments</th>\n",
       "      <th>category</th>\n",
       "      <th>comments</th>\n",
       "    </tr>\n",
       "  </thead>\n",
       "  <tbody>\n",
       "    <tr>\n",
       "      <th>0</th>\n",
       "      <td>0</td>\n",
       "      <td>1dfj5sc</td>\n",
       "      <td>Feel so weird doing this</td>\n",
       "      <td>I know this probably not going to help but i j...</td>\n",
       "      <td>1</td>\n",
       "      <td>1</td>\n",
       "      <td>new</td>\n",
       "      <td>**Hello u/!** \\n\\nThank you for tagging this p...</td>\n",
       "    </tr>\n",
       "    <tr>\n",
       "      <th>1</th>\n",
       "      <td>1</td>\n",
       "      <td>1dfj0dr</td>\n",
       "      <td>Feel like I have no discipline??</td>\n",
       "      <td>All winter I locked in and hit the gym a lot, ...</td>\n",
       "      <td>1</td>\n",
       "      <td>0</td>\n",
       "      <td>new</td>\n",
       "      <td>NaN</td>\n",
       "    </tr>\n",
       "    <tr>\n",
       "      <th>2</th>\n",
       "      <td>2</td>\n",
       "      <td>1dfitks</td>\n",
       "      <td>Need help with making friend feel better overseas</td>\n",
       "      <td>I have a friend that I am not able to physical...</td>\n",
       "      <td>1</td>\n",
       "      <td>0</td>\n",
       "      <td>new</td>\n",
       "      <td>NaN</td>\n",
       "    </tr>\n",
       "    <tr>\n",
       "      <th>3</th>\n",
       "      <td>3</td>\n",
       "      <td>1dfiq4r</td>\n",
       "      <td>(35M) Is my ADHD part of why I feel like I am ...</td>\n",
       "      <td>I'm struggling with what I believe is hypersex...</td>\n",
       "      <td>1</td>\n",
       "      <td>0</td>\n",
       "      <td>new</td>\n",
       "      <td>NaN</td>\n",
       "    </tr>\n",
       "    <tr>\n",
       "      <th>4</th>\n",
       "      <td>4</td>\n",
       "      <td>1dfiofa</td>\n",
       "      <td>Just need a 1 on 1 level headed call</td>\n",
       "      <td>Just looking for someone to talk to real quick...</td>\n",
       "      <td>2</td>\n",
       "      <td>1</td>\n",
       "      <td>new</td>\n",
       "      <td>I’d be down! (score: 1)</td>\n",
       "    </tr>\n",
       "  </tbody>\n",
       "</table>\n",
       "</div>"
      ],
      "text/plain": [
       "   Unnamed: 0       id                                              title  \\\n",
       "0           0  1dfj5sc                           Feel so weird doing this   \n",
       "1           1  1dfj0dr                   Feel like I have no discipline??   \n",
       "2           2  1dfitks  Need help with making friend feel better overseas   \n",
       "3           3  1dfiq4r  (35M) Is my ADHD part of why I feel like I am ...   \n",
       "4           4  1dfiofa               Just need a 1 on 1 level headed call   \n",
       "\n",
       "                                                body  score  num_comments  \\\n",
       "0  I know this probably not going to help but i j...      1             1   \n",
       "1  All winter I locked in and hit the gym a lot, ...      1             0   \n",
       "2  I have a friend that I am not able to physical...      1             0   \n",
       "3  I'm struggling with what I believe is hypersex...      1             0   \n",
       "4  Just looking for someone to talk to real quick...      2             1   \n",
       "\n",
       "  category                                           comments  \n",
       "0      new  **Hello u/!** \\n\\nThank you for tagging this p...  \n",
       "1      new                                                NaN  \n",
       "2      new                                                NaN  \n",
       "3      new                                                NaN  \n",
       "4      new                            I’d be down! (score: 1)  "
      ]
     },
     "execution_count": 8,
     "metadata": {},
     "output_type": "execute_result"
    }
   ],
   "source": [
    "mental.head()"
   ]
  },
  {
   "cell_type": "markdown",
   "metadata": {},
   "source": [
    "From looking through the dataset after scraping, we found that there are duplicate posts being scraped. We will remove the duplicates first, before proceeding with the rest of the preprocessing and modelling. This is done first to reduce the amount of resource needed to do multiple processing steps on all the unnecessary rows, which will eventually be dropped.\n",
    "\n",
    "This will be done using the 'id' column, where the duplicate row will be removed if 2 ids are the same."
   ]
  },
  {
   "cell_type": "code",
   "execution_count": 9,
   "metadata": {},
   "outputs": [
    {
     "name": "stdout",
     "output_type": "stream",
     "text": [
      "Casual conversations:  (3879, 7)\n",
      "Mental Health conversations:  (3789, 8)\n"
     ]
    }
   ],
   "source": [
    "# Before dropping duplicates\n",
    "\n",
    "print('Casual conversations: ', casual.shape)\n",
    "print('Mental Health conversations: ', mental.shape)"
   ]
  },
  {
   "cell_type": "code",
   "execution_count": 10,
   "metadata": {},
   "outputs": [],
   "source": [
    "casual = casual.drop_duplicates(subset=['id'], keep='first')\n",
    "mental = mental.drop_duplicates(subset=['id'], keep='first')"
   ]
  },
  {
   "cell_type": "code",
   "execution_count": 11,
   "metadata": {},
   "outputs": [
    {
     "name": "stdout",
     "output_type": "stream",
     "text": [
      "Casual conversations:  (977, 7)\n",
      "Mental Health conversations:  (1010, 8)\n"
     ]
    }
   ],
   "source": [
    "# After dropping duplicates\n",
    "\n",
    "print('Casual conversations: ', casual.shape)\n",
    "print('Mental Health conversations: ', mental.shape)"
   ]
  },
  {
   "cell_type": "markdown",
   "metadata": {},
   "source": [
    "Helper Functions"
   ]
  },
  {
   "cell_type": "code",
   "execution_count": 12,
   "metadata": {},
   "outputs": [],
   "source": [
    "# Text cleaner to prepare the data for NLP preprocessing\n",
    "\n",
    "def cleaner(df):\n",
    "    df.text = df.text.apply(lambda x: re.sub(r'\\(score: \\d+\\)', '', x.lower()))\n",
    "    df.text = df.text.apply(lambda x: re.sub(r'[^\\w\\s]', ' ', x))\n",
    "    df.text = df.text.apply(lambda x: re.sub(r'\\n', ' ', x))\n",
    "    df.text = df.text.apply(lambda x: re.sub(r'http\\S+|www\\S+|https\\S+', '', x))\n",
    "    df.text = df.text.apply(lambda x: emoji.replace_emoji(x, replace=''))\n",
    "    return df\n",
    "\n",
    "# As part of the NLP preprocessing, we will tokenize, lemmatize and stem each word in the document for the whole corpus\n",
    "\n",
    "def nltk_preprocess(df):\n",
    "    lemmatizer = WordNetLemmatizer()\n",
    "    stemmer = PorterStemmer()\n",
    "    stop_words = set(stopwords.words('english'))\n",
    "    def process(text):\n",
    "        words = word_tokenize(text)\n",
    "        words = [word for word in words if word not in stop_words]\n",
    "        words = [lemmatizer.lemmatize(word) for word in words]\n",
    "        words = [stemmer.stem(word) for word in words]\n",
    "        processed = ' '.join(words)\n",
    "        return processed\n",
    "    df.text = df.text.apply(process)\n",
    "    return df\n",
    "\n",
    "# As RoBERTa is able to understand sentence sequences and structures, there are lesser things to remove to clean and prepare the data for NLP preprocessing\n",
    "# We are also using the 'cased' version of RoBERTa, hence we will not standardize all the text to lowercase\n",
    "\n",
    "def roberta_cleaner(df):\n",
    "    df.text = df.text.apply(lambda x: re.sub(r'\\(score: \\d+\\)', '', x))\n",
    "    df.text = df.text.apply(lambda x: re.sub(r'\\n', ' ', x))\n",
    "    df.text = df.text.apply(lambda x: re.sub(r'\\|', '.', x))\n",
    "    df.text = df.text.apply(lambda x: re.sub(r'http\\S+|www\\S+|https\\S+', '', x))\n",
    "    df.text = df.text.apply(lambda x: emoji.replace_emoji(x, replace=''))\n",
    "    return df"
   ]
  },
  {
   "cell_type": "markdown",
   "metadata": {},
   "source": [
    "Create a score dictionary to store the scores of different models. This will allow us easier access to the scores, which can be plotted into a bar plot for comparison at the end."
   ]
  },
  {
   "cell_type": "code",
   "execution_count": 13,
   "metadata": {},
   "outputs": [],
   "source": [
    "scores_dict = {}"
   ]
  },
  {
   "cell_type": "markdown",
   "metadata": {},
   "source": [
    "### Naive Bayes Classification Model"
   ]
  },
  {
   "cell_type": "markdown",
   "metadata": {},
   "source": [
    "Preprocessing\n",
    "\n",
    "We will first extract the required data from the scraped dataset and add labels to the data. The 2 seperate classes are then concatenated to create a full dataframe."
   ]
  },
  {
   "cell_type": "code",
   "execution_count": 14,
   "metadata": {},
   "outputs": [
    {
     "data": {
      "text/html": [
       "<div>\n",
       "<style scoped>\n",
       "    .dataframe tbody tr th:only-of-type {\n",
       "        vertical-align: middle;\n",
       "    }\n",
       "\n",
       "    .dataframe tbody tr th {\n",
       "        vertical-align: top;\n",
       "    }\n",
       "\n",
       "    .dataframe thead th {\n",
       "        text-align: right;\n",
       "    }\n",
       "</style>\n",
       "<table border=\"1\" class=\"dataframe\">\n",
       "  <thead>\n",
       "    <tr style=\"text-align: right;\">\n",
       "      <th></th>\n",
       "      <th>text</th>\n",
       "      <th>label</th>\n",
       "    </tr>\n",
       "  </thead>\n",
       "  <tbody>\n",
       "    <tr>\n",
       "      <th>0</th>\n",
       "      <td>Feel so weird doing this I know this probably ...</td>\n",
       "      <td>1</td>\n",
       "    </tr>\n",
       "    <tr>\n",
       "      <th>1</th>\n",
       "      <td>Feel like I have no discipline?? All winter I ...</td>\n",
       "      <td>1</td>\n",
       "    </tr>\n",
       "    <tr>\n",
       "      <th>2</th>\n",
       "      <td>Need help with making friend feel better overs...</td>\n",
       "      <td>1</td>\n",
       "    </tr>\n",
       "    <tr>\n",
       "      <th>3</th>\n",
       "      <td>(35M) Is my ADHD part of why I feel like I am ...</td>\n",
       "      <td>1</td>\n",
       "    </tr>\n",
       "    <tr>\n",
       "      <th>4</th>\n",
       "      <td>Just need a 1 on 1 level headed call Just look...</td>\n",
       "      <td>1</td>\n",
       "    </tr>\n",
       "  </tbody>\n",
       "</table>\n",
       "</div>"
      ],
      "text/plain": [
       "                                                text  label\n",
       "0  Feel so weird doing this I know this probably ...      1\n",
       "1  Feel like I have no discipline?? All winter I ...      1\n",
       "2  Need help with making friend feel better overs...      1\n",
       "3  (35M) Is my ADHD part of why I feel like I am ...      1\n",
       "4  Just need a 1 on 1 level headed call Just look...      1"
      ]
     },
     "execution_count": 14,
     "metadata": {},
     "output_type": "execute_result"
    }
   ],
   "source": [
    "mental_df = pd.DataFrame()\n",
    "mental_df['text'] = mental.title + ' ' + mental.body\n",
    "mental_df['label'] = 1\n",
    "\n",
    "casual_df = pd.DataFrame()\n",
    "casual_df['text'] = casual.title + ' ' + casual.body\n",
    "casual_df['label'] = 0\n",
    "\n",
    "full_df = pd.concat([mental_df, casual_df], ignore_index=True)\n",
    "full_df.head()"
   ]
  },
  {
   "cell_type": "code",
   "execution_count": 15,
   "metadata": {},
   "outputs": [],
   "source": [
    "clean_full_df = nltk_preprocess(cleaner(full_df))"
   ]
  },
  {
   "cell_type": "markdown",
   "metadata": {},
   "source": [
    "Splitting the dataset into training and testing set"
   ]
  },
  {
   "cell_type": "code",
   "execution_count": 16,
   "metadata": {},
   "outputs": [],
   "source": [
    "X_train, X_test, y_train, y_test = train_test_split(clean_full_df.text, clean_full_df.label, test_size=0.25, random_state=555)"
   ]
  },
  {
   "cell_type": "markdown",
   "metadata": {},
   "source": [
    "Creating a pipeline for vectorizing and running a 5-fold CV on the Multinomial Naive Bayes model"
   ]
  },
  {
   "cell_type": "code",
   "execution_count": 17,
   "metadata": {},
   "outputs": [],
   "source": [
    "nb_pipeline = Pipeline([\n",
    "    ('vectorizer', CountVectorizer()),\n",
    "    ('classifier', MultinomialNB())\n",
    "])"
   ]
  },
  {
   "cell_type": "code",
   "execution_count": 18,
   "metadata": {},
   "outputs": [
    {
     "name": "stdout",
     "output_type": "stream",
     "text": [
      "Cross-Validation Scores: [0.76510067 0.82885906 0.85234899 0.80872483 0.82885906]\n",
      "Mean Accuracy: 0.8167785234899329\n"
     ]
    }
   ],
   "source": [
    "scores = cross_val_score(nb_pipeline, X_train, y_train, cv=5)\n",
    "\n",
    "print(\"Cross-Validation Scores:\", scores)\n",
    "print(\"Mean Accuracy:\", scores.mean())"
   ]
  },
  {
   "cell_type": "markdown",
   "metadata": {},
   "source": [
    "Fitting the model and predicting the target values for the test set"
   ]
  },
  {
   "cell_type": "code",
   "execution_count": 19,
   "metadata": {},
   "outputs": [
    {
     "name": "stdout",
     "output_type": "stream",
     "text": [
      "Accuracy score:\n",
      " 0.859\n",
      "Classification report:\n",
      "               precision    recall  f1-score   support\n",
      "\n",
      "           0       0.98      0.71      0.82       228\n",
      "           1       0.80      0.99      0.88       269\n",
      "\n",
      "    accuracy                           0.86       497\n",
      "   macro avg       0.89      0.85      0.85       497\n",
      "weighted avg       0.88      0.86      0.86       497\n",
      "\n"
     ]
    }
   ],
   "source": [
    "nb_pipeline.fit(X_train, y_train)\n",
    "y_preds = nb_pipeline.predict(X_test)\n",
    "print(\"Accuracy score:\\n\", round(accuracy_score(y_test, y_preds), 3))\n",
    "print(\"Classification report:\\n\", classification_report(y_test, y_preds))"
   ]
  },
  {
   "cell_type": "code",
   "execution_count": 20,
   "metadata": {},
   "outputs": [],
   "source": [
    "scores_dict['MultinomialNB\\n(without comments)'] = (0.859)"
   ]
  },
  {
   "cell_type": "markdown",
   "metadata": {},
   "source": [
    "To try and improve the MultinomialNB score, we will try adding the comments into the 'text' column. As duplicates have already been dropped in the df used above, we will not be able just add the comments into mental_df.text and casual_df.text, as there will be a difference in the number of texts and unprocessed comments. Hence, we will recreate new dataframes for the text with comments."
   ]
  },
  {
   "cell_type": "code",
   "execution_count": 21,
   "metadata": {},
   "outputs": [
    {
     "data": {
      "text/html": [
       "<div>\n",
       "<style scoped>\n",
       "    .dataframe tbody tr th:only-of-type {\n",
       "        vertical-align: middle;\n",
       "    }\n",
       "\n",
       "    .dataframe tbody tr th {\n",
       "        vertical-align: top;\n",
       "    }\n",
       "\n",
       "    .dataframe thead th {\n",
       "        text-align: right;\n",
       "    }\n",
       "</style>\n",
       "<table border=\"1\" class=\"dataframe\">\n",
       "  <thead>\n",
       "    <tr style=\"text-align: right;\">\n",
       "      <th></th>\n",
       "      <th>text</th>\n",
       "      <th>label</th>\n",
       "    </tr>\n",
       "  </thead>\n",
       "  <tbody>\n",
       "    <tr>\n",
       "      <th>0</th>\n",
       "      <td>Feel so weird doing this I know this probably ...</td>\n",
       "      <td>1</td>\n",
       "    </tr>\n",
       "    <tr>\n",
       "      <th>1</th>\n",
       "      <td>Feel like I have no discipline?? All winter I ...</td>\n",
       "      <td>1</td>\n",
       "    </tr>\n",
       "    <tr>\n",
       "      <th>2</th>\n",
       "      <td>Need help with making friend feel better overs...</td>\n",
       "      <td>1</td>\n",
       "    </tr>\n",
       "    <tr>\n",
       "      <th>3</th>\n",
       "      <td>(35M) Is my ADHD part of why I feel like I am ...</td>\n",
       "      <td>1</td>\n",
       "    </tr>\n",
       "    <tr>\n",
       "      <th>4</th>\n",
       "      <td>Just need a 1 on 1 level headed call Just look...</td>\n",
       "      <td>1</td>\n",
       "    </tr>\n",
       "  </tbody>\n",
       "</table>\n",
       "</div>"
      ],
      "text/plain": [
       "                                                text  label\n",
       "0  Feel so weird doing this I know this probably ...      1\n",
       "1  Feel like I have no discipline?? All winter I ...      1\n",
       "2  Need help with making friend feel better overs...      1\n",
       "3  (35M) Is my ADHD part of why I feel like I am ...      1\n",
       "4  Just need a 1 on 1 level headed call Just look...      1"
      ]
     },
     "execution_count": 21,
     "metadata": {},
     "output_type": "execute_result"
    }
   ],
   "source": [
    "mental_df_comments = pd.DataFrame()\n",
    "mental_df_comments['text'] = mental.title + ' ' + mental.body + ' ' + mental.comments.fillna('')\n",
    "mental_df_comments['label'] = 1\n",
    "\n",
    "casual_df_comments = pd.DataFrame()\n",
    "casual_df_comments['text'] = casual.title + ' ' + casual.body + ' ' + casual.comments.fillna('')\n",
    "casual_df_comments['label'] = 0\n",
    "\n",
    "full_df_comments = pd.concat([mental_df_comments, casual_df_comments], ignore_index=True)\n",
    "full_df_comments.head()"
   ]
  },
  {
   "cell_type": "markdown",
   "metadata": {},
   "source": [
    "The rest of the steps following the creation of the new dataset is similar to the first MultinomialNB model above."
   ]
  },
  {
   "cell_type": "code",
   "execution_count": 22,
   "metadata": {},
   "outputs": [],
   "source": [
    "clean_full_df_comments = nltk_preprocess(cleaner(full_df_comments))"
   ]
  },
  {
   "cell_type": "code",
   "execution_count": 23,
   "metadata": {},
   "outputs": [],
   "source": [
    "X_train_comments, X_test_comments, y_train_comments, y_test_comments = train_test_split(\n",
    "    clean_full_df_comments.text, clean_full_df_comments.label, test_size=0.25, random_state=555)"
   ]
  },
  {
   "cell_type": "code",
   "execution_count": 24,
   "metadata": {},
   "outputs": [
    {
     "name": "stdout",
     "output_type": "stream",
     "text": [
      "Cross-Validation Scores: [0.90939597 0.89597315 0.90268456 0.89597315 0.90268456]\n",
      "Mean Accuracy: 0.9013422818791946\n"
     ]
    }
   ],
   "source": [
    "scores = cross_val_score(nb_pipeline, X_train_comments, y_train_comments, cv=5)\n",
    "\n",
    "print(\"Cross-Validation Scores:\", scores)\n",
    "print(\"Mean Accuracy:\", scores.mean())"
   ]
  },
  {
   "cell_type": "code",
   "execution_count": 25,
   "metadata": {},
   "outputs": [
    {
     "name": "stdout",
     "output_type": "stream",
     "text": [
      "Accuracy score:\n",
      " 0.907\n",
      "Classification report:\n",
      "               precision    recall  f1-score   support\n",
      "\n",
      "           0       0.91      0.89      0.90       228\n",
      "           1       0.91      0.92      0.92       269\n",
      "\n",
      "    accuracy                           0.91       497\n",
      "   macro avg       0.91      0.91      0.91       497\n",
      "weighted avg       0.91      0.91      0.91       497\n",
      "\n"
     ]
    }
   ],
   "source": [
    "nb_pipeline.fit(X_train_comments, y_train_comments)\n",
    "y_preds = nb_pipeline.predict(X_test_comments)\n",
    "print(\"Accuracy score:\\n\", round(accuracy_score(y_test_comments, y_preds), 3))\n",
    "print(\"Classification report:\\n\", classification_report(y_test_comments, y_preds))"
   ]
  },
  {
   "cell_type": "code",
   "execution_count": 26,
   "metadata": {},
   "outputs": [],
   "source": [
    "scores_dict['MultinomialNB\\n(Baseline)'] = (0.907)"
   ]
  },
  {
   "cell_type": "markdown",
   "metadata": {},
   "source": [
    "### XGBoost Classifier\n",
    "Another group of powerful models we will be looking at are gradient boosted models. For this purpose, we will train the XGBoost Classifier to classify the documents in our corpus. As the preprocessing steps are the same as for the MultinomialNB model, we will use the same preprocessed data from the model above (with comments)."
   ]
  },
  {
   "cell_type": "code",
   "execution_count": 27,
   "metadata": {},
   "outputs": [],
   "source": [
    "xgb_pipeline = Pipeline([\n",
    "    ('vectorizer', CountVectorizer()),\n",
    "    ('classifier', XGBClassifier())\n",
    "])"
   ]
  },
  {
   "cell_type": "code",
   "execution_count": 28,
   "metadata": {},
   "outputs": [
    {
     "name": "stdout",
     "output_type": "stream",
     "text": [
      "Cross-Validation Scores: [0.90268456 0.90268456 0.87919463 0.86241611 0.88255034]\n",
      "Mean Accuracy: 0.8859060402684562\n"
     ]
    }
   ],
   "source": [
    "scores = cross_val_score(xgb_pipeline, X_train_comments, y_train_comments, cv=5)\n",
    "\n",
    "print(\"Cross-Validation Scores:\", scores)\n",
    "print(\"Mean Accuracy:\", scores.mean())"
   ]
  },
  {
   "cell_type": "code",
   "execution_count": 29,
   "metadata": {},
   "outputs": [
    {
     "name": "stdout",
     "output_type": "stream",
     "text": [
      "Accuracy score:\n",
      " 0.926\n",
      "Classification report:\n",
      "               precision    recall  f1-score   support\n",
      "\n",
      "           0       0.93      0.91      0.92       228\n",
      "           1       0.92      0.94      0.93       269\n",
      "\n",
      "    accuracy                           0.93       497\n",
      "   macro avg       0.93      0.92      0.92       497\n",
      "weighted avg       0.93      0.93      0.93       497\n",
      "\n"
     ]
    }
   ],
   "source": [
    "xgb_pipeline.fit(X_train_comments, y_train_comments)\n",
    "y_preds = xgb_pipeline.predict(X_test_comments)\n",
    "print(\"Accuracy score:\\n\", round(accuracy_score(y_test_comments, y_preds), 3))\n",
    "print(\"Classification report:\\n\", classification_report(y_test_comments, y_preds))"
   ]
  },
  {
   "cell_type": "code",
   "execution_count": 30,
   "metadata": {},
   "outputs": [],
   "source": [
    "scores_dict['XGBoost'] = (0.926)"
   ]
  },
  {
   "cell_type": "markdown",
   "metadata": {},
   "source": [
    "### RoBERTa Transformer model"
   ]
  },
  {
   "cell_type": "markdown",
   "metadata": {},
   "source": [
    "The first transformer model we will look at is RoBERTa, obtained from HuggingFace Hub. It was designed specifically for NLP use cases and has be pre-trained on large corpuses of text with 145M parameters. For our use-case, we will fine-tune the model with our dataset and split the data into train-test sets to be able to evaluate the performance of our model."
   ]
  },
  {
   "cell_type": "markdown",
   "metadata": {},
   "source": [
    "Cleaning the data"
   ]
  },
  {
   "cell_type": "code",
   "execution_count": 31,
   "metadata": {},
   "outputs": [],
   "source": [
    "roberta_cleaned_df = roberta_cleaner(full_df_comments)"
   ]
  },
  {
   "cell_type": "markdown",
   "metadata": {},
   "source": [
    "Splitting the data"
   ]
  },
  {
   "cell_type": "code",
   "execution_count": 32,
   "metadata": {},
   "outputs": [],
   "source": [
    "train_set, test_set = train_test_split(roberta_cleaned_df, test_size=0.25, random_state=555)"
   ]
  },
  {
   "cell_type": "markdown",
   "metadata": {},
   "source": [
    "We will be using HuggingFace's Dataset class and use our datasets to build it up. This will allow our model to access the data."
   ]
  },
  {
   "cell_type": "code",
   "execution_count": 33,
   "metadata": {},
   "outputs": [
    {
     "data": {
      "text/plain": [
       "DatasetDict({\n",
       "    train: Dataset({\n",
       "        features: ['text', 'label'],\n",
       "        num_rows: 1490\n",
       "    })\n",
       "    test: Dataset({\n",
       "        features: ['text', 'label'],\n",
       "        num_rows: 497\n",
       "    })\n",
       "})"
      ]
     },
     "execution_count": 33,
     "metadata": {},
     "output_type": "execute_result"
    }
   ],
   "source": [
    "train_set = Dataset.from_pandas((train_set.reset_index(drop=True)))\n",
    "test_set = Dataset.from_pandas((test_set.reset_index(drop=True)))\n",
    "\n",
    "roberta_dataset = DatasetDict({\n",
    "        'train': train_set,\n",
    "        'test': test_set,\n",
    "})\n",
    "\n",
    "roberta_dataset"
   ]
  },
  {
   "cell_type": "markdown",
   "metadata": {},
   "source": [
    "After having the Dataset built, we will tokenize the documents in the dataset. This is done using the AutoTokenizer from HuggingFace, from which we will choose the 'roberta-base' pretrained tokenizer for our RoBERTa model. We will also have a data collator to help with the batching and padding of the documents and ensures that all the documents within that batch will have the same length."
   ]
  },
  {
   "cell_type": "code",
   "execution_count": 34,
   "metadata": {},
   "outputs": [
    {
     "name": "stderr",
     "output_type": "stream",
     "text": [
      "Map: 100%|██████████| 1490/1490 [00:00<00:00, 5050.72 examples/s]\n",
      "Map: 100%|██████████| 497/497 [00:00<00:00, 4878.42 examples/s]\n"
     ]
    }
   ],
   "source": [
    "tokenizer = AutoTokenizer.from_pretrained('roberta-base')\n",
    "\n",
    "def preprocess_function(datadict):\n",
    "    return tokenizer(datadict[\"text\"], truncation=True, max_length=512)\n",
    "\n",
    "roberta_tokenized_data = roberta_dataset.map(preprocess_function, batched=True)\n",
    "\n",
    "roberta_data_collator = DataCollatorWithPadding(tokenizer=tokenizer)"
   ]
  },
  {
   "cell_type": "markdown",
   "metadata": {},
   "source": [
    "Instantiating our RoBERTa model: `roberta-base`"
   ]
  },
  {
   "cell_type": "code",
   "execution_count": 35,
   "metadata": {},
   "outputs": [
    {
     "name": "stderr",
     "output_type": "stream",
     "text": [
      "Some weights of RobertaForSequenceClassification were not initialized from the model checkpoint at roberta-base and are newly initialized: ['classifier.dense.bias', 'classifier.dense.weight', 'classifier.out_proj.bias', 'classifier.out_proj.weight']\n",
      "You should probably TRAIN this model on a down-stream task to be able to use it for predictions and inference.\n"
     ]
    },
    {
     "data": {
      "text/plain": [
       "RobertaForSequenceClassification(\n",
       "  (roberta): RobertaModel(\n",
       "    (embeddings): RobertaEmbeddings(\n",
       "      (word_embeddings): Embedding(50265, 768, padding_idx=1)\n",
       "      (position_embeddings): Embedding(514, 768, padding_idx=1)\n",
       "      (token_type_embeddings): Embedding(1, 768)\n",
       "      (LayerNorm): LayerNorm((768,), eps=1e-05, elementwise_affine=True)\n",
       "      (dropout): Dropout(p=0.1, inplace=False)\n",
       "    )\n",
       "    (encoder): RobertaEncoder(\n",
       "      (layer): ModuleList(\n",
       "        (0-11): 12 x RobertaLayer(\n",
       "          (attention): RobertaAttention(\n",
       "            (self): RobertaSelfAttention(\n",
       "              (query): Linear(in_features=768, out_features=768, bias=True)\n",
       "              (key): Linear(in_features=768, out_features=768, bias=True)\n",
       "              (value): Linear(in_features=768, out_features=768, bias=True)\n",
       "              (dropout): Dropout(p=0.1, inplace=False)\n",
       "            )\n",
       "            (output): RobertaSelfOutput(\n",
       "              (dense): Linear(in_features=768, out_features=768, bias=True)\n",
       "              (LayerNorm): LayerNorm((768,), eps=1e-05, elementwise_affine=True)\n",
       "              (dropout): Dropout(p=0.1, inplace=False)\n",
       "            )\n",
       "          )\n",
       "          (intermediate): RobertaIntermediate(\n",
       "            (dense): Linear(in_features=768, out_features=3072, bias=True)\n",
       "            (intermediate_act_fn): GELUActivation()\n",
       "          )\n",
       "          (output): RobertaOutput(\n",
       "            (dense): Linear(in_features=3072, out_features=768, bias=True)\n",
       "            (LayerNorm): LayerNorm((768,), eps=1e-05, elementwise_affine=True)\n",
       "            (dropout): Dropout(p=0.1, inplace=False)\n",
       "          )\n",
       "        )\n",
       "      )\n",
       "    )\n",
       "  )\n",
       "  (classifier): RobertaClassificationHead(\n",
       "    (dense): Linear(in_features=768, out_features=768, bias=True)\n",
       "    (dropout): Dropout(p=0.1, inplace=False)\n",
       "    (out_proj): Linear(in_features=768, out_features=2, bias=True)\n",
       "  )\n",
       ")"
      ]
     },
     "execution_count": 35,
     "metadata": {},
     "output_type": "execute_result"
    }
   ],
   "source": [
    "model = AutoModelForSequenceClassification.from_pretrained('roberta-base', num_labels=2)\n",
    "model.to(device)"
   ]
  },
  {
   "cell_type": "markdown",
   "metadata": {},
   "source": [
    "We will now create a function to feed it to the 'compute_metrics' hyperparameter for ourmodel. This allows us to see the training progress and evaluate the performances of the model after each epoch of training. The metrics will include accuracy, F1 score, precision and recall."
   ]
  },
  {
   "cell_type": "code",
   "execution_count": 36,
   "metadata": {},
   "outputs": [],
   "source": [
    "metrics = evaluate.combine(['accuracy', 'f1', 'precision', 'recall'])\n",
    "\n",
    "def compute_metrics(eval_pred):\n",
    "    predictions, labels = eval_pred\n",
    "    predictions = np.argmax(predictions, axis=1)\n",
    "    return metrics.compute(predictions=predictions, references=labels)"
   ]
  },
  {
   "cell_type": "markdown",
   "metadata": {},
   "source": [
    "Creating the arguments for training. We will train the model over 3 epochs and have it train in batches of 16. We will also use a smaller learning rate as the model has already been pre-trained, and we will have a polynomial decay to the learning rate as the model continues to learn within each epoch."
   ]
  },
  {
   "cell_type": "code",
   "execution_count": 37,
   "metadata": {},
   "outputs": [],
   "source": [
    "args = TrainingArguments(\n",
    "    output_dir='test_trainer', \n",
    "    num_train_epochs=3,\n",
    "    per_device_train_batch_size=16,\n",
    "    per_device_eval_batch_size=16,\n",
    "    learning_rate=4e-5,\n",
    "    lr_scheduler_type='polynomial',\n",
    "    weight_decay=0.01,\n",
    "    eval_strategy='epoch')"
   ]
  },
  {
   "cell_type": "markdown",
   "metadata": {},
   "source": [
    "Creating the trainer function"
   ]
  },
  {
   "cell_type": "code",
   "execution_count": 38,
   "metadata": {},
   "outputs": [],
   "source": [
    "trainer = Trainer(\n",
    "        model=model,\n",
    "        args=args,\n",
    "        train_dataset=roberta_tokenized_data['train'],\n",
    "        eval_dataset=roberta_tokenized_data['test'],\n",
    "        tokenizer=tokenizer,\n",
    "        data_collator=roberta_data_collator,\n",
    "        compute_metrics=compute_metrics,\n",
    ")"
   ]
  },
  {
   "cell_type": "markdown",
   "metadata": {},
   "source": [
    "Training and evaluating the model over 3 epochs"
   ]
  },
  {
   "cell_type": "code",
   "execution_count": 39,
   "metadata": {},
   "outputs": [
    {
     "name": "stderr",
     "output_type": "stream",
     "text": [
      "                                                \n",
      " 33%|███▎      | 94/282 [01:16<02:10,  1.44it/s]"
     ]
    },
    {
     "name": "stdout",
     "output_type": "stream",
     "text": [
      "{'eval_loss': 0.1707473248243332, 'eval_accuracy': 0.9436619718309859, 'eval_f1': 0.9501779359430605, 'eval_precision': 0.9112627986348123, 'eval_recall': 0.9925650557620818, 'eval_runtime': 12.7425, 'eval_samples_per_second': 39.003, 'eval_steps_per_second': 2.511, 'epoch': 1.0}\n"
     ]
    },
    {
     "name": "stderr",
     "output_type": "stream",
     "text": [
      "                                                 \n",
      " 67%|██████▋   | 188/282 [02:32<00:48,  1.93it/s]"
     ]
    },
    {
     "name": "stdout",
     "output_type": "stream",
     "text": [
      "{'eval_loss': 0.15027368068695068, 'eval_accuracy': 0.9557344064386318, 'eval_f1': 0.9584905660377359, 'eval_precision': 0.9731800766283525, 'eval_recall': 0.9442379182156134, 'eval_runtime': 12.6807, 'eval_samples_per_second': 39.193, 'eval_steps_per_second': 2.524, 'epoch': 2.0}\n"
     ]
    },
    {
     "name": "stderr",
     "output_type": "stream",
     "text": [
      "                                                 \n",
      "100%|██████████| 282/282 [03:50<00:00,  1.23it/s]"
     ]
    },
    {
     "name": "stdout",
     "output_type": "stream",
     "text": [
      "{'eval_loss': 0.1569877415895462, 'eval_accuracy': 0.9637826961770624, 'eval_f1': 0.967032967032967, 'eval_precision': 0.9530685920577617, 'eval_recall': 0.9814126394052045, 'eval_runtime': 12.6229, 'eval_samples_per_second': 39.373, 'eval_steps_per_second': 2.535, 'epoch': 3.0}\n",
      "{'train_runtime': 230.1781, 'train_samples_per_second': 19.42, 'train_steps_per_second': 1.225, 'train_loss': 0.17953573727438635, 'epoch': 3.0}\n"
     ]
    },
    {
     "name": "stderr",
     "output_type": "stream",
     "text": [
      "\n"
     ]
    },
    {
     "data": {
      "text/plain": [
       "TrainOutput(global_step=282, training_loss=0.17953573727438635, metrics={'train_runtime': 230.1781, 'train_samples_per_second': 19.42, 'train_steps_per_second': 1.225, 'total_flos': 1172610945977640.0, 'train_loss': 0.17953573727438635, 'epoch': 3.0})"
      ]
     },
     "execution_count": 39,
     "metadata": {},
     "output_type": "execute_result"
    }
   ],
   "source": [
    "trainer.train()"
   ]
  },
  {
   "cell_type": "code",
   "execution_count": 52,
   "metadata": {},
   "outputs": [],
   "source": [
    "scores_dict['RoBERTa'] = (0.964)"
   ]
  },
  {
   "cell_type": "markdown",
   "metadata": {},
   "source": [
    "Saving the weights of the trained model into a .pth file"
   ]
  },
  {
   "cell_type": "code",
   "execution_count": 41,
   "metadata": {},
   "outputs": [],
   "source": [
    "torch.save(model.state_dict(), 'roberta_weights.pth')"
   ]
  },
  {
   "cell_type": "markdown",
   "metadata": {},
   "source": [
    "### GPT-2 Model"
   ]
  },
  {
   "cell_type": "markdown",
   "metadata": {},
   "source": [
    "Another transformer type model we will use is the GPT-2 transformer, also obtained from HuggingFace Hub. It is also an NLP specific model but instead of RoBERTa's Encoders, GPT-2 uses Decoders. As we are using the HuggingFace architecture to run both models, the code below used to run GPT-2 is very similar to the one above for RoBERTa, less the model used. The base cleaned data used will also be from the cleaned data used in the RoBERTa model above."
   ]
  },
  {
   "cell_type": "markdown",
   "metadata": {},
   "source": [
    "As we are using the cleaned data from above, we will start off by splitting the data into train-test sets and create the Dataset for the model."
   ]
  },
  {
   "cell_type": "code",
   "execution_count": 42,
   "metadata": {},
   "outputs": [],
   "source": [
    "gpt_train_set, gpt_test_set = train_test_split(roberta_cleaned_df, test_size=0.25, random_state=555)"
   ]
  },
  {
   "cell_type": "code",
   "execution_count": 43,
   "metadata": {},
   "outputs": [
    {
     "data": {
      "text/plain": [
       "DatasetDict({\n",
       "    train: Dataset({\n",
       "        features: ['text', 'label'],\n",
       "        num_rows: 1490\n",
       "    })\n",
       "    test: Dataset({\n",
       "        features: ['text', 'label'],\n",
       "        num_rows: 497\n",
       "    })\n",
       "})"
      ]
     },
     "execution_count": 43,
     "metadata": {},
     "output_type": "execute_result"
    }
   ],
   "source": [
    "gpt_train_set = Dataset.from_pandas((gpt_train_set.reset_index(drop=True)))\n",
    "gpt_test_set = Dataset.from_pandas((gpt_test_set.reset_index(drop=True)))\n",
    "\n",
    "gpt_dataset = DatasetDict({\n",
    "        'train': gpt_train_set,\n",
    "        'test': gpt_test_set,\n",
    "})\n",
    "\n",
    "gpt_dataset"
   ]
  },
  {
   "cell_type": "markdown",
   "metadata": {},
   "source": [
    "Here, we will instead use the GPT2Tokenizer, pretrained from `gpt2` for our model. Similarly, we will have a data collator as well."
   ]
  },
  {
   "cell_type": "code",
   "execution_count": 44,
   "metadata": {},
   "outputs": [
    {
     "name": "stderr",
     "output_type": "stream",
     "text": [
      "Map: 100%|██████████| 1490/1490 [00:02<00:00, 556.75 examples/s]\n",
      "Map: 100%|██████████| 497/497 [00:00<00:00, 562.75 examples/s]\n"
     ]
    }
   ],
   "source": [
    "gpt_tokenizer = GPT2Tokenizer.from_pretrained('gpt2')\n",
    "eos_token = gpt_tokenizer.eos_token\n",
    "gpt_tokenizer.pad_token = eos_token\n",
    "\n",
    "def gpt_preprocess_function(datadict):\n",
    "    return gpt_tokenizer(datadict[\"text\"], truncation=True, padding='max_length', max_length=360)\n",
    "\n",
    "gpt_tokenized_data = gpt_dataset.map(gpt_preprocess_function, batched=True)\n",
    "\n",
    "gpt_data_collator = DataCollatorWithPadding(tokenizer=gpt_tokenizer)"
   ]
  },
  {
   "cell_type": "markdown",
   "metadata": {},
   "source": [
    "Ensuring that the tokens are correct."
   ]
  },
  {
   "cell_type": "code",
   "execution_count": 45,
   "metadata": {},
   "outputs": [
    {
     "name": "stdout",
     "output_type": "stream",
     "text": [
      "EOS token: <|endoftext|>\n",
      "PAD token: <|endoftext|>\n"
     ]
    }
   ],
   "source": [
    "print(f\"EOS token: {gpt_tokenizer.eos_token}\")\n",
    "print(f\"PAD token: {gpt_tokenizer.pad_token}\")"
   ]
  },
  {
   "cell_type": "markdown",
   "metadata": {},
   "source": [
    "Instantiating the model and configuring the pad token ids."
   ]
  },
  {
   "cell_type": "code",
   "execution_count": 46,
   "metadata": {},
   "outputs": [
    {
     "name": "stderr",
     "output_type": "stream",
     "text": [
      "Some weights of GPT2ForSequenceClassification were not initialized from the model checkpoint at gpt2 and are newly initialized: ['score.weight']\n",
      "You should probably TRAIN this model on a down-stream task to be able to use it for predictions and inference.\n"
     ]
    },
    {
     "data": {
      "text/plain": [
       "GPT2ForSequenceClassification(\n",
       "  (transformer): GPT2Model(\n",
       "    (wte): Embedding(50257, 768)\n",
       "    (wpe): Embedding(1024, 768)\n",
       "    (drop): Dropout(p=0.1, inplace=False)\n",
       "    (h): ModuleList(\n",
       "      (0-11): 12 x GPT2Block(\n",
       "        (ln_1): LayerNorm((768,), eps=1e-05, elementwise_affine=True)\n",
       "        (attn): GPT2SdpaAttention(\n",
       "          (c_attn): Conv1D()\n",
       "          (c_proj): Conv1D()\n",
       "          (attn_dropout): Dropout(p=0.1, inplace=False)\n",
       "          (resid_dropout): Dropout(p=0.1, inplace=False)\n",
       "        )\n",
       "        (ln_2): LayerNorm((768,), eps=1e-05, elementwise_affine=True)\n",
       "        (mlp): GPT2MLP(\n",
       "          (c_fc): Conv1D()\n",
       "          (c_proj): Conv1D()\n",
       "          (act): NewGELUActivation()\n",
       "          (dropout): Dropout(p=0.1, inplace=False)\n",
       "        )\n",
       "      )\n",
       "    )\n",
       "    (ln_f): LayerNorm((768,), eps=1e-05, elementwise_affine=True)\n",
       "  )\n",
       "  (score): Linear(in_features=768, out_features=2, bias=False)\n",
       ")"
      ]
     },
     "execution_count": 46,
     "metadata": {},
     "output_type": "execute_result"
    }
   ],
   "source": [
    "gpt_model = GPT2ForSequenceClassification.from_pretrained('gpt2', num_labels=2)\n",
    "gpt_model.config.pad_token_id = gpt_tokenizer.pad_token_id\n",
    "gpt_model.to(device)"
   ]
  },
  {
   "cell_type": "markdown",
   "metadata": {},
   "source": [
    "Creating the arguments for training. Similar to the RoBERTa model, we will train the model over 3 epochs and have it train in batches of 16. We will use a slightly bigger learning rate, which was found to have performed better than the learning rate used in the RoBERTa model. However we will still have the polynomial decay to the learning rate as the model continues to learn within each epoch."
   ]
  },
  {
   "cell_type": "code",
   "execution_count": 47,
   "metadata": {},
   "outputs": [],
   "source": [
    "gpt_args = TrainingArguments(\n",
    "    output_dir='gpt_test_trainer', \n",
    "    num_train_epochs=3,\n",
    "    per_device_train_batch_size=16,\n",
    "    per_device_eval_batch_size=16,\n",
    "    learning_rate=5e-5,\n",
    "    lr_scheduler_type='polynomial',\n",
    "    weight_decay=0.01,\n",
    "    eval_strategy='epoch')"
   ]
  },
  {
   "cell_type": "markdown",
   "metadata": {},
   "source": [
    "Creating the trainer function"
   ]
  },
  {
   "cell_type": "code",
   "execution_count": 48,
   "metadata": {},
   "outputs": [],
   "source": [
    "gpt_trainer = Trainer(\n",
    "        model=gpt_model,\n",
    "        args=gpt_args,\n",
    "        train_dataset=gpt_tokenized_data['train'],\n",
    "        eval_dataset=gpt_tokenized_data['test'],\n",
    "        data_collator=gpt_data_collator,\n",
    "        compute_metrics=compute_metrics,\n",
    ")"
   ]
  },
  {
   "cell_type": "markdown",
   "metadata": {},
   "source": [
    "Training and evaluating the model over 3 epochs."
   ]
  },
  {
   "cell_type": "code",
   "execution_count": 49,
   "metadata": {},
   "outputs": [
    {
     "name": "stderr",
     "output_type": "stream",
     "text": [
      " 33%|███▎      | 93/282 [00:31<01:01,  3.06it/s]\n",
      " 33%|███▎      | 94/282 [00:35<01:01,  3.06it/s]"
     ]
    },
    {
     "name": "stdout",
     "output_type": "stream",
     "text": [
      "{'eval_loss': 0.2419264167547226, 'eval_accuracy': 0.93158953722334, 'eval_f1': 0.9401408450704225, 'eval_precision': 0.8929765886287625, 'eval_recall': 0.9925650557620818, 'eval_runtime': 3.334, 'eval_samples_per_second': 149.07, 'eval_steps_per_second': 9.598, 'epoch': 1.0}\n"
     ]
    },
    {
     "name": "stderr",
     "output_type": "stream",
     "text": [
      " 66%|██████▋   | 187/282 [01:05<00:30,  3.09it/s]\n",
      " 67%|██████▋   | 188/282 [01:08<00:30,  3.09it/s]"
     ]
    },
    {
     "name": "stdout",
     "output_type": "stream",
     "text": [
      "{'eval_loss': 0.20221279561519623, 'eval_accuracy': 0.9476861167002012, 'eval_f1': 0.9520295202952029, 'eval_precision': 0.945054945054945, 'eval_recall': 0.9591078066914498, 'eval_runtime': 3.324, 'eval_samples_per_second': 149.518, 'eval_steps_per_second': 9.627, 'epoch': 2.0}\n"
     ]
    },
    {
     "name": "stderr",
     "output_type": "stream",
     "text": [
      "100%|█████████▉| 281/282 [01:39<00:00,  3.06it/s]\n",
      "100%|██████████| 282/282 [01:43<00:00,  2.71it/s]"
     ]
    },
    {
     "name": "stdout",
     "output_type": "stream",
     "text": [
      "{'eval_loss': 0.2224026471376419, 'eval_accuracy': 0.9476861167002012, 'eval_f1': 0.9525547445255474, 'eval_precision': 0.9354838709677419, 'eval_recall': 0.9702602230483272, 'eval_runtime': 3.3164, 'eval_samples_per_second': 149.863, 'eval_steps_per_second': 9.649, 'epoch': 3.0}\n",
      "{'train_runtime': 103.9013, 'train_samples_per_second': 43.022, 'train_steps_per_second': 2.714, 'train_loss': 0.21947020672737283, 'epoch': 3.0}\n"
     ]
    },
    {
     "name": "stderr",
     "output_type": "stream",
     "text": [
      "\n"
     ]
    },
    {
     "data": {
      "text/plain": [
       "TrainOutput(global_step=282, training_loss=0.21947020672737283, metrics={'train_runtime': 103.9013, 'train_samples_per_second': 43.022, 'train_steps_per_second': 2.714, 'total_flos': 821247521587200.0, 'train_loss': 0.21947020672737283, 'epoch': 3.0})"
      ]
     },
     "execution_count": 49,
     "metadata": {},
     "output_type": "execute_result"
    }
   ],
   "source": [
    "gpt_trainer.train()"
   ]
  },
  {
   "cell_type": "code",
   "execution_count": 53,
   "metadata": {},
   "outputs": [],
   "source": [
    "scores_dict['GPT-2'] = (0.948)"
   ]
  },
  {
   "cell_type": "markdown",
   "metadata": {},
   "source": [
    "Saving the weights of the trained model into a .pth file"
   ]
  },
  {
   "cell_type": "code",
   "execution_count": 54,
   "metadata": {},
   "outputs": [],
   "source": [
    "torch.save(model.state_dict(), 'gpt2_weights.pth')"
   ]
  },
  {
   "cell_type": "markdown",
   "metadata": {},
   "source": [
    "### Model Comparison\n",
    "As the number of positive and negative labels in the dataset is very close, we will compare the different models using the Accuracy score. Using the Accuracy scores of all the models stored in the dictionary `scores_dict`, we will create a chart to compare the performances of all the models above."
   ]
  },
  {
   "cell_type": "code",
   "execution_count": 55,
   "metadata": {},
   "outputs": [
    {
     "data": {
      "image/png": "[encoded data removed]",
      "text/plain": [
       "<Figure size 1000x500 with 1 Axes>"
      ]
     },
     "metadata": {},
     "output_type": "display_data"
    }
   ],
   "source": [
    "sorted_dict = sorted(scores_dict.items(), key=lambda item: item[1])\n",
    "sorted_dict = {model: accuracy for model, accuracy in sorted_dict}\n",
    "\n",
    "model_names = list(sorted_dict.keys())\n",
    "accuracies = list(sorted_dict.values())\n",
    "\n",
    "plt.figure(figsize=(10,5), facecolor='#fffbf0')\n",
    "ax = plt.barh(model_names, accuracies, color='teal')\n",
    "plt.title('Model Accuracy Comparison for Text Classification of Mental Health Posts')\n",
    "plt.ylabel('Models')\n",
    "plt.xlabel('Accuracy')\n",
    "\n",
    "for bar, accuracy in zip(ax, accuracies):\n",
    "    plt.text(bar.get_width() + 0.01, bar.get_y() + bar.get_height()/2, f'{accuracy:.3f}', ha='left', va='center')\n",
    "\n",
    "plt.xlim(0.7, 1)\n",
    "\n",
    "plt.show()"
   ]
  },
  {
   "cell_type": "markdown",
   "metadata": {},
   "source": [
    "From the table above, we can see that the RoBERTa model performs exceptionally well over the other models. Since it was designed specifically for NLP use-cases, it was expected that the model will perform better than others such as XGBoost and MultinomialNB. While we would recommend the transformer models for their performance and accuracy, both the RoBERTa and GPT-2 models are very resource intensive and typically requires a lot of computational power to run the models. Comparing them with XGBoost, which is about 3.8% less accurate but only takes seconds to run, it might be a wiser decision to deploy the XGBoost model instead, if resources are a hard constraint.\n",
    "\n",
    "That being said, as the use-case of these models are to identify students' posts which possibly suggests mental-health related issues, we will still recommend the deployment of the RoBERTa model for its higher accuracy. This will help the school committee to identify and provide early intervention to students who might be facing mental-health issues at school more accurately and timely.\n",
    "\n",
    "Albeit so, much more can be done to build a more accurate and robust model for the use case. Future improvements that can be considered include:\n",
    "\n",
    "1. Getting more datapoints (Only about 2000 datapoints with a 50:50 class ratio was used)\n",
    "2. Tuning the hyperparameters of the different models\n",
    "3. Trying an ensemble of gradient boosted models together with XGBoost such as LightGBM\n",
    "4. Trying out different combinations of models, stemmer, lemmatizer and vectorizers\n",
    "5. Periodically updating and retraining the model with new datasets for the model to learn new and upcoming mental disorders"
   ]
  }
 ],
 "metadata": {
  "kernelspec": {
   "display_name": "torch-gpu",
   "language": "python",
   "name": "python3"
  },
  "language_info": {
   "codemirror_mode": {
    "name": "ipython",
    "version": 3
   },
   "file_extension": ".py",
   "mimetype": "text/x-python",
   "name": "python",
   "nbconvert_exporter": "python",
   "pygments_lexer": "ipython3",
   "version": "3.12.4"
  }
 },
 "nbformat": 4,
 "nbformat_minor": 2
}
